{
 "cells": [
  {
   "cell_type": "code",
   "execution_count": 90,
   "metadata": {},
   "outputs": [],
   "source": [
    "documents = [\n",
    "{'type': 'passport', 'number': '2207 876234', 'name': 'Василий Гупкин'},\n",
    "{'type': 'invoice', 'number': '11-2', 'name': 'Геннадий Покемонов'},\n",
    "{'type': 'insurance', 'number': '10006', 'name': 'Аристарх Павлов'}\n",
    "]"
   ]
  },
  {
   "cell_type": "code",
   "execution_count": 91,
   "metadata": {},
   "outputs": [],
   "source": [
    "directories = {\n",
    "'1': ['2207 876234', '11-2'],\n",
    "'2': ['10006'],\n",
    "'3': []\n",
    "}"
   ]
  },
  {
   "cell_type": "code",
   "execution_count": 92,
   "metadata": {},
   "outputs": [],
   "source": [
    "def p_func():\n",
    "    number = input('Введите номер документа:')\n",
    "    for doc in documents:\n",
    "        if doc['number'] == number:\n",
    "            print(doc['name'])\n",
    "            return None\n",
    "    print('Документ не найден в базе')"
   ]
  },
  {
   "cell_type": "code",
   "execution_count": 93,
   "metadata": {},
   "outputs": [],
   "source": [
    "def s_func():\n",
    "    number = input('Введите номер документа:')\n",
    "    for k,v in directories.items():\n",
    "        if number in v:\n",
    "            print(k)\n",
    "            return None\n",
    "    print('Документ не найден в базе')"
   ]
  },
  {
   "cell_type": "code",
   "execution_count": 94,
   "metadata": {},
   "outputs": [],
   "source": [
    "def s_func_(number):\n",
    "    for k,v in directories.items():\n",
    "        if number in v:\n",
    "            return k\n",
    "    return 'Полка не найдена'"
   ]
  },
  {
   "cell_type": "code",
   "execution_count": 100,
   "metadata": {},
   "outputs": [],
   "source": [
    "def l_func():\n",
    "    documents_ = []\n",
    "    for doc in documents:\n",
    "        doc_ = {}\n",
    "        doc_['полка хранения'] = s_func_(doc['number'])\n",
    "        doc_['№'] = doc['number']\n",
    "        doc_['тип'] = doc['type']\n",
    "        doc_['владелец'] = doc['name']\n",
    "        print(doc_)"
   ]
  },
  {
   "cell_type": "code",
   "execution_count": 101,
   "metadata": {},
   "outputs": [],
   "source": [
    "def as_func():\n",
    "    shelf_number = input('Введите номер полки:')\n",
    "    if shelf_number in directories.keys():\n",
    "        print('Полка уже существует')\n",
    "        return None\n",
    "    directories[shelf_number] = []\n",
    "    print('Полка добавлена')"
   ]
  },
  {
   "cell_type": "code",
   "execution_count": 102,
   "metadata": {},
   "outputs": [],
   "source": [
    "def ds_func():\n",
    "    shelf_number = input('Введите номер полки:')\n",
    "    if shelf_number not in directories.keys():\n",
    "        print('Такой полки не существует.')\n",
    "    else:\n",
    "        if len(directories[shelf_number])==0:\n",
    "            directories.pop(shelf_number)\n",
    "            print('Полка удалена.')\n",
    "        print('На полке есть документа, удалите их перед удалением полки.')"
   ]
  },
  {
   "cell_type": "code",
   "execution_count": 103,
   "metadata": {},
   "outputs": [],
   "source": [
    "commands = {\n",
    "    'p': p_func,\n",
    "    's': s_func,\n",
    "    'l': l_func,\n",
    "    'as': as_func,\n",
    "    'ds': ds_func\n",
    "}"
   ]
  },
  {
   "cell_type": "code",
   "execution_count": 105,
   "metadata": {},
   "outputs": [
    {
     "name": "stdout",
     "output_type": "stream",
     "text": [
      "Choose your destinyl\n",
      "{'полка хранения': '1', '№': '2207 876234', 'тип': 'passport', 'владелец': 'Василий Гупкин'}\n",
      "{'полка хранения': '1', '№': '11-2', 'тип': 'invoice', 'владелец': 'Геннадий Покемонов'}\n",
      "{'полка хранения': '2', '№': '10006', 'тип': 'insurance', 'владелец': 'Аристарх Павлов'}\n"
     ]
    }
   ],
   "source": [
    "selector = input('Choose your destiny')\n",
    "commands[selector]()"
   ]
  },
  {
   "cell_type": "code",
   "execution_count": 89,
   "metadata": {},
   "outputs": [
    {
     "data": {
      "text/plain": [
       "[{'type': 'passport',\n",
       "  'number': '2207 876234',\n",
       "  'name': 'Василий Гупкин',\n",
       "  'полка хранения': '2',\n",
       "  '№': '10006',\n",
       "  'тип': 'insurance',\n",
       "  'владелец': 'Аристарх Павлов'},\n",
       " {'type': 'invoice', 'number': '11-2', 'name': 'Геннадий Покемонов'},\n",
       " {}]"
      ]
     },
     "execution_count": 89,
     "metadata": {},
     "output_type": "execute_result"
    }
   ],
   "source": [
    "documents"
   ]
  },
  {
   "cell_type": "code",
   "execution_count": null,
   "metadata": {},
   "outputs": [],
   "source": []
  }
 ],
 "metadata": {
  "kernelspec": {
   "display_name": "Python 3",
   "language": "python",
   "name": "python3"
  },
  "language_info": {
   "codemirror_mode": {
    "name": "ipython",
    "version": 3
   },
   "file_extension": ".py",
   "mimetype": "text/x-python",
   "name": "python",
   "nbconvert_exporter": "python",
   "pygments_lexer": "ipython3",
   "version": "3.8.5"
  }
 },
 "nbformat": 4,
 "nbformat_minor": 4
}
