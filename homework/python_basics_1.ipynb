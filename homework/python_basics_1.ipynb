{
 "cells": [
  {
   "cell_type": "code",
   "execution_count": 1,
   "metadata": {},
   "outputs": [
    {
     "name": "stdout",
     "output_type": "stream",
     "text": [
      "Фраза 2 длиннее фразы 1\n"
     ]
    }
   ],
   "source": [
    "phrase_1 = len('640Кб должно хватить для любых задач. Билл Гейтс (по легенде)')\n",
    "phrase_2 = len('Насколько проще было бы писать программы, если бы не заказчики')\n",
    "if phrase_1 > phrase_2:\n",
    "    print('Фраза 1 длиннее фразы 2')\n",
    "elif phrase_1 < phrase_2:\n",
    "    print('Фраза 2 длиннее фразы 1')\n",
    "else:\n",
    "    print('Фразы равной длины')"
   ]
  },
  {
   "cell_type": "code",
   "execution_count": 55,
   "metadata": {},
   "outputs": [
    {
     "name": "stdout",
     "output_type": "stream",
     "text": [
      "2016 Високосный год\n"
     ]
    }
   ],
   "source": [
    "year=2016\n",
    "if year%4==0: \n",
    "    print(year,'Високосный год')\n",
    "else:\n",
    "    print(year,'Обычный год')"
   ]
  },
  {
   "cell_type": "code",
   "execution_count": 4,
   "metadata": {},
   "outputs": [
    {
     "name": "stdout",
     "output_type": "stream",
     "text": [
      "введите день 5\n",
      "введите месяц октябрь\n",
      "Ваш знак зодиака: весы\n"
     ]
    }
   ],
   "source": [
    "user_input = int(input('введите день '))\n",
    "user_input2 = input('введите месяц ')\n",
    "if user_input2 =='сентябрь' and user_input <=23:\n",
    "    print('Ваш знак зодиака: дева')\n",
    "elif user_input2 =='август' and user_input <=21:\n",
    "    print('Ваш знак зодиака: лев')\n",
    "elif user_input2 =='июль' and user_input <=22:\n",
    "    print('Ваш знак зодиака: рак')\n",
    "elif user_input2 =='июнь' and user_input <=21:\n",
    "    print('Ваш знак зодиака: близнецы')\n",
    "elif user_input2 =='май' and user_input <=21:\n",
    "    print('Ваш знак зодиака: телец')\n",
    "elif user_input2 =='апрель' and user_input <=20:\n",
    "    print('Ваш знак зодиака: овен')\n",
    "elif user_input2 =='март' and user_input <=25:\n",
    "    print('Ваш знак зодиака: рыбы')\n",
    "elif user_input2 =='февраль' and user_input <=25:\n",
    "    print('Ваш знак зодиака: водолей')\n",
    "elif user_input2 =='январь' and user_input <=25:\n",
    "    print('Ваш знак зодиака: козерог')\n",
    "elif user_input2 =='декабрь' and user_input <=25:\n",
    "    print('Ваш знак зодиака: стрелец')\n",
    "elif user_input2 =='ноябрь' and user_input <=25:\n",
    "    print('Ваш знак зодиака: скорпион')\n",
    "elif user_input2 =='октябрь' and user_input <=25:\n",
    "    print('Ваш знак зодиака: весы')\n",
    "\n",
    "\n"
   ]
  },
  {
   "cell_type": "code",
   "execution_count": 5,
   "metadata": {},
   "outputs": [
    {
     "name": "stdout",
     "output_type": "stream",
     "text": [
      "введите ширину 10\n",
      "введите длину 205\n",
      "введите высоту 5\n",
      "Упаковка для лыж\n"
     ]
    }
   ],
   "source": [
    "user_input_width= int(input('введите ширину '))\n",
    "user_input_length= int(input('введите длину '))\n",
    "user_input_height= int(input('введите высоту '))\n",
    "if user_input_width <15  and user_input_length <15 and user_input_height<15:\n",
    "    print('Коробка №1')\n",
    "elif user_input_width >=15 and user_input_width <50 or user_input_length >=15 and user_input_length <50 or user_input_height >=15 and user_input_height <50 :\n",
    "    print('Коробка №2')  \n",
    "elif user_input_length >=200:\n",
    "    print('Упаковка для лыж') \n",
    "else:\n",
    "    print('Стандартная коробка №3')\n"
   ]
  }
 ],
 "metadata": {
  "kernelspec": {
   "display_name": "Python 3",
   "language": "python",
   "name": "python3"
  },
  "language_info": {
   "codemirror_mode": {
    "name": "ipython",
    "version": 3
   },
   "file_extension": ".py",
   "mimetype": "text/x-python",
   "name": "python",
   "nbconvert_exporter": "python",
   "pygments_lexer": "ipython3",
   "version": "3.8.5"
  }
 },
 "nbformat": 4,
 "nbformat_minor": 4
}
