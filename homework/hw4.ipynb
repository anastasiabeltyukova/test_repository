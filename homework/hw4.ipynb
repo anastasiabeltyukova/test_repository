{
 "cells": [
  {
   "cell_type": "code",
   "execution_count": 15,
   "metadata": {},
   "outputs": [
    {
     "name": "stdout",
     "output_type": "stream",
     "text": [
      "Результат: Максимальный объем продаж на рекламном канале: vk\n"
     ]
    }
   ],
   "source": [
    "statss = {\n",
    "    'facebook': 55,\n",
    "    'yandex': 115,\n",
    "    'vk': 120,\n",
    "    'google': 99,\n",
    "    'email': 42,\n",
    "    'ok': 98\n",
    "}\n",
    "for key, value in list(statss.items()):\n",
    "    if value == max(list(statss.values())):\n",
    "        print('Результат: Максимальный объем продаж на рекламном канале:', key)"
   ]
  },
  {
   "cell_type": "code",
   "execution_count": 16,
   "metadata": {
    "scrolled": true
   },
   "outputs": [
    {
     "name": "stdout",
     "output_type": "stream",
     "text": [
      "{'vk': {'revenue': 103, 'cost': 98, 'ROI': 5.102040816326525}, 'yandex': {'revenue': 179, 'cost': 153, 'ROI': 16.99346405228759}, 'facebook': {'revenue': 103, 'cost': 110, 'ROI': -6.36363636363636}, 'adwords': {'revenue': 35, 'cost': 34, 'ROI': 2.941176470588225}, 'twitter': {'revenue': 11, 'cost': 24, 'ROI': -54.16666666666667}}\n"
     ]
    }
   ],
   "source": [
    "results = {\n",
    "    'vk': {'revenue': 103, 'cost': 98},\n",
    "    'yandex': {'revenue': 179, 'cost': 153},\n",
    "    'facebook': {'revenue': 103, 'cost': 110},\n",
    "    'adwords': {'revenue': 35, 'cost': 34},\n",
    "    'twitter': {'revenue': 11, 'cost': 24},\n",
    "}\n",
    "\n",
    "for company, value in results.items():\n",
    "    value['ROI'] = (value['revenue'] / value['cost'] - 1) * 100\n",
    "    \n",
    "print(dict(results))"
   ]
  },
  {
   "cell_type": "code",
   "execution_count": 18,
   "metadata": {},
   "outputs": [
    {
     "name": "stdout",
     "output_type": "stream",
     "text": [
      "Поисковых запросов, содержащих 2 слов(а): 0.42857142857142855\n",
      "Поисковых запросов, содержащих 3 слов(а): 0.5714285714285714\n"
     ]
    }
   ],
   "source": [
    "queries = [\n",
    "'смотреть сериалы онлайн',\n",
    "'новости спорта',\n",
    "'афиша кино',\n",
    "'курс доллара',\n",
    "'сериалы этим летом',\n",
    "'курс по питону',\n",
    "'сериалы про спорт']\n",
    "\n",
    "queries_list = []\n",
    "two_word_count = 0\n",
    "three_word_count = 0\n",
    "\n",
    "for i in queries:\n",
    "    a = len(i.split(' '))\n",
    "    queries_list.append(a)\n",
    "    if a == 2:\n",
    "        two_word_count = two_word_count + 1\n",
    "    if a == 3:\n",
    "        three_word_count = three_word_count + 1\n",
    "    \n",
    "print('Поисковых запросов, содержащих 2 слов(а):', (two_word_count/(two_word_count+three_word_count)))\n",
    "print('Поисковых запросов, содержащих 3 слов(а):', (three_word_count/(two_word_count+three_word_count)))"
   ]
  },
  {
   "cell_type": "code",
   "execution_count": 20,
   "metadata": {},
   "outputs": [
    {
     "name": "stdout",
     "output_type": "stream",
     "text": [
      "{98, 35, 15, 213, 54, 119}\n"
     ]
    }
   ],
   "source": [
    "ids = {\n",
    "    'user1': [213, 213, 213, 15, 213],\n",
    "    'user2': [54, 54, 119, 119, 119],\n",
    "    'user3': [213, 98, 98, 35]\n",
    "}\n",
    "geo_metrics = []\n",
    "\n",
    "for value in list(ids.values()):\n",
    "    geo_metrics = geo_metrics + value\n",
    "    \n",
    "geomtrics_new = set(geo_metrics)\n",
    "print(geomtrics_new)"
   ]
  }
 ],
 "metadata": {
  "kernelspec": {
   "display_name": "Python 3",
   "language": "python",
   "name": "python3"
  },
  "language_info": {
   "codemirror_mode": {
    "name": "ipython",
    "version": 3
   },
   "file_extension": ".py",
   "mimetype": "text/x-python",
   "name": "python",
   "nbconvert_exporter": "python",
   "pygments_lexer": "ipython3",
   "version": "3.8.5"
  }
 },
 "nbformat": 4,
 "nbformat_minor": 4
}
